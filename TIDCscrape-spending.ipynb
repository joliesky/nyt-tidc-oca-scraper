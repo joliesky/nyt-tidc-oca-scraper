{
 "cells": [
  {
   "cell_type": "markdown",
   "id": "e7fb7e61-74f0-494c-b139-4c0bf3e6b130",
   "metadata": {},
   "source": [
    "## Pulling data from TIDC\n",
    "\n",
    "Printing out each county's spending per capita, from 2023 to 2019.\n",
    "\n",
    "(Counts go from 2023 -> 2019)"
   ]
  },
  {
   "cell_type": "code",
   "execution_count": 1,
   "id": "4740c2a9-3be3-4a6c-a1e3-9ac47dbb2bce",
   "metadata": {
    "scrolled": true
   },
   "outputs": [
    {
     "name": "stderr",
     "output_type": "stream",
     "text": [
      "/Users/jolie/Library/Python/3.9/lib/python/site-packages/urllib3/__init__.py:35: NotOpenSSLWarning: urllib3 v2 only supports OpenSSL 1.1.1+, currently the 'ssl' module is compiled with 'LibreSSL 2.8.3'. See: https://github.com/urllib3/urllib3/issues/3020\n",
      "  warnings.warn(\n"
     ]
    }
   ],
   "source": [
    "import bs4, requests, time, csv"
   ]
  },
  {
   "cell_type": "markdown",
   "id": "70f85182-cce4-4c1a-b690-8347ccf48707",
   "metadata": {},
   "source": [
    "Pull in all the data for all the counties and put them into a dictionary"
   ]
  },
  {
   "cell_type": "code",
   "execution_count": 2,
   "id": "33c22632-8152-4c5b-95d6-0349b92006e2",
   "metadata": {},
   "outputs": [],
   "source": [
    "baseURL = \"https://tidc.tamu.edu/public.net/Reports/DataSheet.aspx?cid=\"\n",
    "data = []\n",
    "\n",
    "for i in range(1,255):\n",
    "    #pull in html from each of the 254 counties' unique pages given the county id\n",
    "    url = baseURL + str(i)\n",
    "    html = requests.get(url).text\n",
    "    soup = bs4.BeautifulSoup(html, 'html.parser')\n",
    "    countyName = soup.find(\"span\",attrs={\"id\":\"ctl00_MainContent_CallbackPanel_rpReport_RPHT\"}).text.split(\" County\")[0]\n",
    "    \n",
    "    #select the rows we're interested in: population and felony, misd, and total expenditures\n",
    "    pop = soup.find(\"tr\",attrs={\"id\":\"ctl00_MainContent_CallbackPanel_rpReport_gvReport_DXDataRow0\"}) \n",
    "    felExp = soup.find(\"tr\",attrs={\"id\":\"ctl00_MainContent_CallbackPanel_rpReport_gvReport_DXDataRow5\"})\n",
    "    misdExp = soup.find(\"tr\",attrs={\"id\":\"ctl00_MainContent_CallbackPanel_rpReport_gvReport_DXDataRow10\"})\n",
    "    totalExp = soup.find(\"tr\",attrs={\"id\":\"ctl00_MainContent_CallbackPanel_rpReport_gvReport_DXDataRow16\"})\n",
    "    \n",
    "    popYrs = pop.find_all('td')\n",
    "    felExpYrs = felExp.find_all('td')\n",
    "    misdExpYrs = misdExp.find_all('td')\n",
    "    totalExpYrs = totalExp.find_all('td')\n",
    "\n",
    "    #create a dictionary where our data will live for each county\n",
    "    countyData = {'county': countyName}\n",
    "\n",
    "    #go through each year and assign data\n",
    "    for i in range(2,7):\n",
    "        year = 2023 - (i-2)\n",
    "        popField = \"pop_\" + str(year)\n",
    "        felExpField = \"felExp_\" + str(year)\n",
    "        misdExpField = \"misdExp_\" + str(year)\n",
    "        totalExpField = \"totalExp_\" + str(year)\n",
    "\n",
    "        countyData[str(popField)] = popYrs[i].text\n",
    "        countyData[str(felExpField)] = felExpYrs[i].text\n",
    "        countyData[str(misdExpField)] = misdExpYrs[i].text\n",
    "        countyData[str(totalExpField)] = totalExpYrs[i].text\n",
    "\n",
    "    data.append(countyData)\n",
    "\n",
    "    #wait a second between pages to be nice\n",
    "    time.sleep(1.3)\n"
   ]
  },
  {
   "cell_type": "markdown",
   "id": "10a388ad-d585-41fb-b55d-81a886422886",
   "metadata": {},
   "source": [
    "\n",
    "Get the column names and dump the array into a csv file\n"
   ]
  },
  {
   "cell_type": "code",
   "execution_count": 3,
   "id": "6a7abeb4-3d89-403a-bf01-e4d12e20d584",
   "metadata": {},
   "outputs": [],
   "source": [
    "columnNames = data[0].keys()\n",
    "\n",
    "with open(\"tidc_county_spending.csv\", \"w\", newline=\"\") as csvfile:\n",
    "    writer = csv.DictWriter(csvfile, fieldnames=columnNames)\n",
    "\n",
    "    writer.writeheader()\n",
    "    writer.writerows(data)"
   ]
  },
  {
   "cell_type": "markdown",
   "id": "6adf149b-b5c5-47da-afa6-5c6f92f8f9af",
   "metadata": {},
   "source": [
    "Celebrate!!!"
   ]
  }
 ],
 "metadata": {
  "kernelspec": {
   "display_name": "Python 3 (ipykernel)",
   "language": "python",
   "name": "python3"
  },
  "language_info": {
   "codemirror_mode": {
    "name": "ipython",
    "version": 3
   },
   "file_extension": ".py",
   "mimetype": "text/x-python",
   "name": "python",
   "nbconvert_exporter": "python",
   "pygments_lexer": "ipython3",
   "version": "3.9.6"
  }
 },
 "nbformat": 4,
 "nbformat_minor": 5
}
