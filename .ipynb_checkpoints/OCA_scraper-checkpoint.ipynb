{
 "cells": [
  {
   "cell_type": "markdown",
   "id": "e7fb7e61-74f0-494c-b139-4c0bf3e6b130",
   "metadata": {},
   "source": [
    "## Pulling data from OCA\n",
    "\n",
    "Pulling out dismissed cases from each county's pdf sheet from Fy 2022 (sept. 21 - aug. 22)\n",
    "\n",
    "**Have pypdf installed**"
   ]
  },
  {
   "cell_type": "code",
   "execution_count": 2,
   "id": "4740c2a9-3be3-4a6c-a1e3-9ac47dbb2bce",
   "metadata": {},
   "outputs": [
    {
     "ename": "ModuleNotFoundError",
     "evalue": "No module named 'pypdf'",
     "output_type": "error",
     "traceback": [
      "\u001b[0;31m---------------------------------------------------------------------------\u001b[0m",
      "\u001b[0;31mModuleNotFoundError\u001b[0m                       Traceback (most recent call last)",
      "Cell \u001b[0;32mIn[2], line 1\u001b[0m\n\u001b[0;32m----> 1\u001b[0m \u001b[38;5;28;01mfrom\u001b[39;00m \u001b[38;5;21;01mpypdf\u001b[39;00m \u001b[38;5;28;01mimport\u001b[39;00m PdfReader\n\u001b[1;32m      2\u001b[0m \u001b[38;5;28;01mimport\u001b[39;00m \u001b[38;5;21;01mbs4\u001b[39;00m\u001b[38;5;241m,\u001b[39m \u001b[38;5;21;01mrequests\u001b[39;00m\u001b[38;5;241m,\u001b[39m \u001b[38;5;21;01mtime\u001b[39;00m\u001b[38;5;241m,\u001b[39m \u001b[38;5;21;01mcsv\u001b[39;00m\n",
      "\u001b[0;31mModuleNotFoundError\u001b[0m: No module named 'pypdf'"
     ]
    }
   ],
   "source": [
    "from pypdf import PdfReader\n",
    "import bs4, requests, time, csv"
   ]
  },
  {
   "cell_type": "markdown",
   "id": "70f85182-cce4-4c1a-b690-8347ccf48707",
   "metadata": {},
   "source": [
    "Pull in all the data for all the counties and put them into a dictionary"
   ]
  },
  {
   "cell_type": "code",
   "execution_count": 3,
   "id": "33c22632-8152-4c5b-95d6-0349b92006e2",
   "metadata": {},
   "outputs": [],
   "source": [
    "baseURL = \"https://tidc.tamu.edu/public.net/Reports/DataSheet.aspx?cid=\"\n",
    "data = []\n",
    "\n",
    "for i in range(1,255):\n",
    "    #pull in html from each of the 254 counties' unique pages given the county id\n",
    "    url = baseURL + str(i)\n",
    "    html = requests.get(url).text\n",
    "    soup = bs4.BeautifulSoup(html, 'html.parser')\n",
    "    countyName = soup.find(\"span\",attrs={\"id\":\"ctl00_MainContent_CallbackPanel_rpReport_RPHT\"}).text.split(\" County\")[0]\n",
    "    \n",
    "    #select the two rows we're interested in misd charges disposed and misd cases paid - and get their columns\n",
    "    #disposedRow = soup.find(\"tr\",attrs={\"id\":\"ctl00_MainContent_CallbackPanel_rpReport_gvReport_DXDataRow6\"}) \n",
    "    #paidRow = soup.find(\"tr\",attrs={\"id\":\"ctl00_MainContent_CallbackPanel_rpReport_gvReport_DXDataRow7\"})\n",
    "\n",
    "    #swap out to grab felonies now in new sheet\n",
    "    disposedRow = soup.find(\"tr\",attrs={\"id\":\"ctl00_MainContent_CallbackPanel_rpReport_gvReport_DXDataRow1\"}) \n",
    "    paidRow = soup.find(\"tr\",attrs={\"id\":\"ctl00_MainContent_CallbackPanel_rpReport_gvReport_DXDataRow2\"})\n",
    "    \n",
    "    disposedYrs = disposedRow.find_all('td')\n",
    "    paidYrs = paidRow.find_all('td')\n",
    "\n",
    "    #create a dictionary where our data will live for each county\n",
    "    countyData = {'county': countyName}\n",
    "\n",
    "    #go through each year and assign data\n",
    "    countyData['disp_2022'] = disposedYrs[2].text\n",
    "    countyData['disp_2021'] = disposedYrs[3].text\n",
    "    countyData['disp_2020'] = disposedYrs[4].text\n",
    "    countyData['disp_2019'] = disposedYrs[5].text\n",
    "    countyData['disp_2018'] = disposedYrs[6].text\n",
    "\n",
    "    countyData['paid_2022'] = paidYrs[2].text\n",
    "    countyData['paid_2021'] = paidYrs[3].text\n",
    "    countyData['paid_2020'] = paidYrs[4].text\n",
    "    countyData['paid_2019'] = paidYrs[5].text\n",
    "    countyData['paid_2018'] = paidYrs[6].text\n",
    "\n",
    "    data.append(countyData)\n",
    "\n",
    "    #wait a second between pages to be nice\n",
    "    time.sleep(1.3)\n"
   ]
  },
  {
   "cell_type": "markdown",
   "id": "10a388ad-d585-41fb-b55d-81a886422886",
   "metadata": {},
   "source": [
    "\n",
    "Get the column names and dump the array into a csv file\n"
   ]
  },
  {
   "cell_type": "code",
   "execution_count": 4,
   "id": "6a7abeb4-3d89-403a-bf01-e4d12e20d584",
   "metadata": {},
   "outputs": [],
   "source": [
    "columnNames = data[0].keys()\n",
    "\n",
    "with open(\"tidc_fel_all_counties.csv\", \"w\", newline=\"\") as csvfile:\n",
    "    writer = csv.DictWriter(csvfile, fieldnames=columnNames)\n",
    "\n",
    "    writer.writeheader()\n",
    "    writer.writerows(data)"
   ]
  },
  {
   "cell_type": "markdown",
   "id": "6adf149b-b5c5-47da-afa6-5c6f92f8f9af",
   "metadata": {},
   "source": [
    "Celebrate!!!"
   ]
  }
 ],
 "metadata": {
  "kernelspec": {
   "display_name": "Python 3 (ipykernel)",
   "language": "python",
   "name": "python3"
  },
  "language_info": {
   "codemirror_mode": {
    "name": "ipython",
    "version": 3
   },
   "file_extension": ".py",
   "mimetype": "text/x-python",
   "name": "python",
   "nbconvert_exporter": "python",
   "pygments_lexer": "ipython3",
   "version": "3.12.3"
  }
 },
 "nbformat": 4,
 "nbformat_minor": 5
}
